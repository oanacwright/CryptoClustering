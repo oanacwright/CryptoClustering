# Import required libraries and dependencies
import pandas as pd
import hvplot.pandas
from sklearn.cluster import KMeans
from sklearn.decomposition import PCA
from sklearn.preprocessing import StandardScaler


# Load the data into a Pandas DataFrame
df_market_data = pd.read_csv(
    "Resources/crypto_market_data.csv",
    index_col="coin_id")

# Display sample data
df_market_data.head(10)


# Generate summary statistics
df_market_data.describe()


# Plot your data to see what's in your DataFrame
df_market_data.hvplot.line(
    width=800,
    height=400,
    rot=90
)








# Use the `StandardScaler()` module from scikit-learn to normalize the data from the CSV file
market_data_s = StandardScaler().fit_transform(
    df_market_data[['price_change_percentage_24h', 'price_change_percentage_7d',
       'price_change_percentage_14d', 'price_change_percentage_30d',
       'price_change_percentage_60d', 'price_change_percentage_200d',
       'price_change_percentage_1y']]
)


# Create a DataFrame with the scaled data
df_market_data_s = pd.DataFrame(
    market_data_s,
    columns=['price_change_percentage_24h', 'price_change_percentage_7d',
       'price_change_percentage_14d', 'price_change_percentage_30d',
       'price_change_percentage_60d', 'price_change_percentage_200d',
       'price_change_percentage_1y']
)

# Copy the crypto names from the original DataFrame
df_market_data_s['coin_id'] = df_market_data.index

# Set the coin_id column as index
df_market_data_s = df_market_data_s.set_index('coin_id')

# Display the scaled DataFrame
df_market_data_s.head()








# Create a list with the number of k-values from 1 to 11
k=list(range(1,11))


# Create an empty list to store the inertia values
inertia =[]

# Create a for loop to compute the inertia with each possible value of k
# Inside the loop:
# 1. Create a KMeans model using the loop counter for the n_clusters
# 2. Fit the model to the data using `df_market_data_scaled`
# 3. Append the model.inertia_ to the inertia list
for i in k:
    model = KMeans(n_clusters=i, random_state=0)
    model.fit(df_market_data_s)
    inertia.append(model.inertia_)


# Create a dictionary with the data to plot the Elbow curve
elbow_data = {"k": k, "inertia": inertia}

# Create a DataFrame with the data to plot the Elbow curve
df_elbow = pd.DataFrame(elbow_data)

# Review the DataFrame
df_elbow.head()


# Plot a line chart with all the inertia values computed with
# the different values of k to visually identify the optimal value for k.
k_elbow_plot = df_elbow.hvplot.line(
    x="k",
    y="inertia",
    xticks=k
)
k_elbow_plot











# Initialize the K-Means model using the best value for k
model = KMeans(n_clusters=4, random_state=0)


# Fit the K-Means model using the scaled DataFrame
model.fit(df_market_data_s)


# Predict the clusters to group the cryptocurrencies using the scaled DataFrame
crypto_clusters = model.predict(df_market_data_s)

# Print the resulting array of cluster values.
print(crypto_clusters)


# Create a copy of the scaled DataFrame
df_crypto_predictions = df_market_data_s.copy()


# Add a new column to the copy of the scaled DataFrame with the predicted clusters
df_crypto_predictions['clusters'] = crypto_clusters

# Display the copy of the scaled DataFrame
df_crypto_predictions


# Create a scatter plot using hvPlot by setting
# `x="price_change_percentage_24h"` and `y="price_change_percentage_7d"`.
# Color the graph points with the labels found using K-Means and
# add the crypto name in the `hover_cols` parameter to identify
# the cryptocurrency represented by each data point.
plot_k = df_crypto_predictions.hvplot.scatter(
    x="price_change_percentage_24h",
    y="price_change_percentage_7d",
    title="Clusters - Original Scaled Data",
    by="clusters",
    hover_cols="coin_id"
)
plot_k








# Create a PCA model instance and set `n_components=3`.
# Create a PCA model instance and set `n_components=3`.
pca = PCA(n_components=3)


# Use the PCA model with `fit_transform` to reduce the original scaled DataFrame
# down to three principal components.
crypto_pca_data = pca.fit_transform(df_market_data_s)

# View the scaled PCA data
crypto_pca_data[:5]


# Retrieve the explained variance to determine how much information
# can be attributed to each principal component.
pca.explained_variance_ratio_





# Create a new DataFrame with the PCA data.
crypto_pca_df = pd.DataFrame(crypto_pca_data, columns=["PC1", "PC2", "PC3"])

# Copy the crypto names from the original scaled DataFrame
crypto_pca_df['coin_id'] = df_market_data_s.index

# Set the coin_id column as index
crypto_pca_df.set_index('coin_id', inplace=True)

# Display the scaled PCA DataFrame
crypto_pca_df.head()








# Create a list with the number of k-values from 1 to 11
k_pca = list(range(1,11))


# Create an empty list to store the inertia values
inertia_pca=[]

# Create a for loop to compute the inertia with each possible value of k
# Inside the loop:
# 1. Create a KMeans model using the loop counter for the n_clusters
# 2. Fit the model to the data using `df_market_data_pca`
# 3. Append the model.inertia_ to the inertia list
for i in k_pca:
    model_pca = KMeans(n_clusters=i, random_state=0)
    model_pca.fit(crypto_pca_df)
    inertia_pca.append(model_pca.inertia_)


# Create a dictionary with the data to plot the Elbow curve
pca_elbow_data = {"k": k_pca, "inertia": inertia_pca}
# Create a DataFrame with the data to plot the Elbow curve
df_pca_elbow = pd.DataFrame(pca_elbow_data)
# Review the DataFrame
df_pca_elbow.head()


# Plot a line chart with all the inertia values computed with
# the different values of k to visually identify the optimal value for k.
pca_elbow_data_plot = df_pca_elbow.hvplot.line(
    x="k",
    y="inertia",
    xticks=k_pca
)
pca_elbow_data_plot








# Initialize the K-Means model using the best value for k
pca_model = KMeans(n_clusters=4, random_state=0)


# Fit the K-Means model using the PCA data
pca_model.fit(crypto_pca_df)


# Predict the clusters to group the cryptocurrencies using the scaled PCA DataFrame
k_pca_model = pca_model.predict(crypto_pca_df)

# Print the resulting array of cluster values.
print(k_pca_model)


# Create a copy of the scaled PCA DataFrame
df_crypto_pca_predictions = crypto_pca_df.copy()

# Add a new column to the copy of the PCA DataFrame with the predicted clusters
df_crypto_pca_predictions['clusters'] = k_pca_model

# Display the copy of the scaled PCA DataFrame
df_crypto_pca_predictions.head()


# Create a scatter plot using hvPlot by setting
# `x="PC1"` and `y="PC2"`.
# Color the graph points with the labels found using K-Means and
# add the crypto name in the `hover_cols` parameter to identify
# the cryptocurrency represented by each data point.
plot_pca = df_crypto_pca_predictions.hvplot.scatter(
    x="PC1",
    y="PC2",
    title="Clusters - PCA Scaled Data",
    by="clusters",
    hover_cols="coin_id"
)
plot_pca





# Composite plot to contrast the Elbow curves
k_elbow_plot + pca_elbow_data_plot



# Composite plot to contrast the clusters
plot_k + plot_pca






